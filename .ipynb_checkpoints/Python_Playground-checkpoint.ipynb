{
 "cells": [
  {
   "cell_type": "code",
   "execution_count": 6,
   "metadata": {
    "collapsed": false
   },
   "outputs": [],
   "source": [
    "# setting up imports\n",
    "import xmltodict as xd\n",
    "import pvl\n",
    "import plio\n",
    "import importlib\n",
    "\n",
    "from os import listdir\n",
    "from os.path import isfile, join\n",
    "\n",
    "from osgeo import gdal\n",
    "from plio.utils.utils import find_in_dict\n",
    "from pvl._collections import OrderedMultiDict"
   ]
  },
  {
   "cell_type": "code",
   "execution_count": 22,
   "metadata": {
    "collapsed": false,
    "scrolled": false
   },
   "outputs": [
    {
     "name": "stdout",
     "output_type": "stream",
     "text": [
      "[]\n",
      "0\n",
      "0\n"
     ]
    }
   ],
   "source": [
    "fail_count = 0\n",
    "success_count = 0\n",
    "\n",
    "path = '/archive/missions/lro/minirf/PDS_Data/S_band/BASEmode/SouthPole/'\n",
    "geodatafiles = [file for file in listdir(path) if file.endswith(\".IMG\")]\n",
    "\n",
    "print (geodatafiles)\n",
    "\n",
    "for files in geodatafiles:\n",
    "    try:\n",
    "        geodata = gdal.Open(geodatafiles)\n",
    "        if (not geodata):\n",
    "            fail_count+=1\n",
    "        else:\n",
    "            success_count+=1\n",
    "    except:\n",
    "        fail_count+=1\n",
    "\n",
    "print(fail_count)\n",
    "print(success_count)\n",
    "\n",
    "geodata = gdal.Open(geodatafiles[0])\n"
   ]
  },
  {
   "cell_type": "code",
   "execution_count": null,
   "metadata": {
    "collapsed": true
   },
   "outputs": [],
   "source": []
  }
 ],
 "metadata": {
  "anaconda-cloud": {},
  "kernelspec": {
   "display_name": "Python [default]",
   "language": "python",
   "name": "python3"
  },
  "language_info": {
   "codemirror_mode": {
    "name": "ipython",
    "version": 3
   },
   "file_extension": ".py",
   "mimetype": "text/x-python",
   "name": "python",
   "nbconvert_exporter": "python",
   "pygments_lexer": "ipython3",
   "version": "3.5.2"
  }
 },
 "nbformat": 4,
 "nbformat_minor": 0
}
