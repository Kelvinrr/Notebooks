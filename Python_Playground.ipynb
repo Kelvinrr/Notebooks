{
 "cells": [
  {
   "cell_type": "code",
   "execution_count": 1,
   "metadata": {
    "collapsed": false
   },
   "outputs": [],
   "source": [
    "# setting up imports\n",
    "import xmltodict as xd\n",
    "import pvl\n",
    "import plio\n",
    "\n",
    "from plio.utils.utils import find_in_dict\n",
    "from pvl._collections import OrderedMultiDict"
   ]
  },
  {
   "cell_type": "code",
   "execution_count": 51,
   "metadata": {
    "collapsed": false,
    "scrolled": false
   },
   "outputs": [
    {
     "name": "stdout",
     "output_type": "stream",
     "text": [
      "Object = Core\r\n",
      "  Skip = 0\r\n",
      "  Group = Dimenstions\r\n",
      "    Samples = \"1536\"\r\n",
      "    Lines = \"255\"\r\n",
      "    Bands = 1\r\n",
      "  End_Group\r\n",
      "  Group = Pixels\r\n",
      "    Type = SignedWord\r\n",
      "    ByteOrder = Lsb\r\n",
      "    Base = \"0.00\"\r\n",
      "    Multiplier = \"1.00\"\r\n",
      "  End_Group\r\n",
      "End_Object\r\n",
      "End\n",
      "\n",
      "Group = Instrument\r\n",
      "  SpacecraftName = \"TRACE GAS ORBITER\"\r\n",
      "  InstrumentId = TGO\r\n",
      "  TargetName = \"Starfield (HD 13591)\"\r\n",
      "  StartTime = \"2016-04-07T09:44:04.839\"\r\n",
      "  ExposureDuration = \"1.008e-003\"\r\n",
      "End_Group\r\n",
      "End\n"
     ]
    }
   ],
   "source": [
    "with open(\"Data/example.xml\") as file:\n",
    "    dict = xd.parse(file.read())  \n",
    "\n",
    "# Set the encoder for dumping the pvl label\n",
    "encoder = pvl.encoder.IsisCubeLabelEncoder\n",
    "\n",
    "############ Get the instrument label ############\n",
    "\n",
    "instrument_name = find_in_dict(dict, \"Instrument_Host_Name\")\n",
    "if instrument_name != 'TRACE GAS ORBITER':\n",
    "    raise Exception(instrument_name, \" is not a supported mission.\")\n",
    "\n",
    "# Get all the things\n",
    "Instrument_host_Id = find_in_dict(dict, \"Instrument_Host_Id\")\n",
    "target_name = find_in_dict(dict, \"Target\")['#text']\n",
    "start_time = find_in_dict(dict, \"OnboardImageAcquisitionTime\")[\"#text\"]\n",
    "exposure_duration = find_in_dict(dict, \"PEHK_HEADER\")[\"@Exposure_Time\"]\n",
    "\n",
    "# create the pvl object\n",
    "module = pvl.PVLObject([\n",
    "    ('Instrument', pvl.PVLGroup([\n",
    "        ('SpacecraftName', instrument_name),\n",
    "        ('InstrumentId', Instrument_host_Id),\n",
    "        ('TargetName', target_name),\n",
    "        ('StartTime', start_time),\n",
    "        ('ExposureDuration', exposure_duration)\n",
    "        ])\n",
    "     )\n",
    "])\n",
    "\n",
    "# dump the pvl object into a string\n",
    "instrument_lbl = pvl.dumps(module, cls=encoder).decode(\"utf-8\")\n",
    "\n",
    "############ Get the Core label ############\n",
    "base = find_in_dict(dict, \"value_offset\")\n",
    "multiplier = find_in_dict(dict, \"scaling_factor\")\n",
    "skip = 0\n",
    "\n",
    "try: \n",
    "    lines = samples = find_in_dict(dict, 'Axis_Array')[1]['elements']\n",
    "except:\n",
    "    lines = 1\n",
    "\n",
    "try: \n",
    "    samples = find_in_dict(dict, 'Axis_Array')[0]['elements']\n",
    "except:\n",
    "    samples = 1\n",
    "    \n",
    "bands = 1  # all images consist of one band for CaSSIS\n",
    "byte_order = \"Lsb\"\n",
    "\n",
    "idl_data_type = find_in_dict(dict, 'idl_data_type')\n",
    "\n",
    "# convert from IDL data types\n",
    "if idl_data_type is 2:\n",
    "    data_type = \"SignedWord\"\n",
    "elif idl_data_type is 12:\n",
    "    data_type = \"UnsignedWord\"\n",
    "else: \n",
    "    data_type = find_in_dict(dict, 'data_type')\n",
    "\n",
    "# create the pvl object\n",
    "module = pvl.PVLModule([\n",
    "    ('Core', pvl.PVLObject([\n",
    "        ('Skip', skip),\n",
    "        ('Dimenstions', pvl.PVLGroup([\n",
    "                        ('Samples', samples),\n",
    "                        ('Lines', lines),\n",
    "                        ('Bands', bands),     \n",
    "                        ])),\n",
    "        ('Pixels', pvl.PVLGroup([\n",
    "                    ('Type', data_type),\n",
    "                    ('ByteOrder', byte_order),\n",
    "                    ('Base', base),\n",
    "                    ('Multiplier', multiplier),\n",
    "                    ]))\n",
    "        ])\n",
    "     )\n",
    "])\n",
    "\n",
    "# dump the pvl object into a string\n",
    "core_lbl = pvl.dumps(module, cls=encoder).decode(\"utf-8\")\n",
    "\n",
    "lbl = core_lbl + '\\n\\n' + instrument_lbl\n",
    "\n",
    "print(lbl)"
   ]
  },
  {
   "cell_type": "code",
   "execution_count": null,
   "metadata": {
    "collapsed": true
   },
   "outputs": [],
   "source": []
  }
 ],
 "metadata": {
  "kernelspec": {
   "display_name": "Python 3",
   "language": "python",
   "name": "python3"
  },
  "language_info": {
   "codemirror_mode": {
    "name": "ipython",
    "version": 3
   },
   "file_extension": ".py",
   "mimetype": "text/x-python",
   "name": "python",
   "nbconvert_exporter": "python",
   "pygments_lexer": "ipython3",
   "version": "3.5.2"
  }
 },
 "nbformat": 4,
 "nbformat_minor": 0
}
