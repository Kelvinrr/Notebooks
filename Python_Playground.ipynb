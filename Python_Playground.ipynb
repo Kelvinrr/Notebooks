{
 "cells": [
  {
   "cell_type": "code",
   "execution_count": 51,
   "metadata": {
    "collapsed": false
   },
   "outputs": [],
   "source": [
    "# setting up imports\n",
    "import xmltodict as xd\n",
    "import pvl\n",
    "import plio\n",
    "import yaml\n",
    "import os\n",
    "\n",
    "from osgeo import gdal\n",
    "from plio.utils.utils import find_in_dict\n",
    "from pvl._collections import OrderedMultiDict\n",
    "from importlib.machinery import SourceFileLoader"
   ]
  },
  {
   "cell_type": "code",
   "execution_count": 53,
   "metadata": {
    "collapsed": false,
    "scrolled": false
   },
   "outputs": [
    {
     "name": "stdout",
     "output_type": "stream",
     "text": [
      "Modules:  ['test2', 'test1', 'test4', 'projector screens', 'perfectly symmetrical tv remotes', 'pinch zoom', 'two finger scroll', 'test3']\n",
      "('test3', 'This is not a valid data type for test2')\n",
      "('test3', 'This is not a valid data type for test1')\n",
      "module 'test4' has no attribute 'create'\n",
      "[Errno 2] No such file or directory: 'modules/projector screens.py'\n",
      "[Errno 2] No such file or directory: 'modules/perfectly symmetrical tv remotes.py'\n",
      "[Errno 2] No such file or directory: 'modules/pinch zoom.py'\n",
      "[Errno 2] No such file or directory: 'modules/two finger scroll.py'\n",
      "Ran Test3\n"
     ]
    }
   ],
   "source": [
    "data = {'type':'test3', 'size':2}\n",
    "\n",
    "with open('modules/test.plugin', 'r') as stream:\n",
    "    try:\n",
    "        modules = yaml.load(stream)\n",
    "    except yaml.YAMLError as e:\n",
    "        print(e)\n",
    "\n",
    "print('Modules: ', modules)\n",
    "\n",
    "result = None\n",
    "for module in modules:\n",
    "    try:\n",
    "        pyfile = SourceFileLoader(module, 'modules/'+module+'.py')\n",
    "        module = pyfile.load_module()\n",
    "        result = module.create(data)\n",
    "        break\n",
    "    except Exception as e:\n",
    "        print(e)\n",
    "\n",
    "if result:\n",
    "    print(result)\n",
    "else:\n",
    "    print('This is not a supported dataset')"
   ]
  },
  {
   "cell_type": "code",
   "execution_count": null,
   "metadata": {
    "collapsed": true
   },
   "outputs": [],
   "source": []
  }
 ],
 "metadata": {
  "kernelspec": {
   "display_name": "Python 3",
   "language": "python",
   "name": "python3"
  },
  "language_info": {
   "codemirror_mode": {
    "name": "ipython",
    "version": 3
   },
   "file_extension": ".py",
   "mimetype": "text/x-python",
   "name": "python",
   "nbconvert_exporter": "python",
   "pygments_lexer": "ipython3",
   "version": "3.5.2"
  }
 },
 "nbformat": 4,
 "nbformat_minor": 0
}
