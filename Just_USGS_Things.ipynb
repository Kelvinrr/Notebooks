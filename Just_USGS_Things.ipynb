{
 "cells": [
  {
   "cell_type": "code",
   "execution_count": 2,
   "metadata": {},
   "outputs": [],
   "source": [
    "from bayleef import api\n",
    "from datetime import date\n",
    "import wget\n"
   ]
  },
  {
   "cell_type": "code",
   "execution_count": 3,
   "metadata": {},
   "outputs": [
    {
     "data": {
      "text/plain": [
       "{'errorCode': None,\n",
       " 'error': '',\n",
       " 'data': 'abcdc96a35a248e88715325f87023219',\n",
       " 'api_version': '1.3.0',\n",
       " 'access_level': 'guest',\n",
       " 'executionTime': 0.53557300567627}"
      ]
     },
     "execution_count": 3,
     "metadata": {},
     "output_type": "execute_result"
    }
   ],
   "source": [
    "api.login('krodriguez','Otacon1105')"
   ]
  },
  {
   "cell_type": "code",
   "execution_count": 3,
   "metadata": {},
   "outputs": [
    {
     "data": {
      "text/plain": [
       "{'errorCode': None,\n",
       " 'error': '',\n",
       " 'data': [{'fieldId': 20520,\n",
       "   'name': 'Landsat Product Identifier',\n",
       "   'fieldLink': 'https://lta.cr.usgs.gov/Landsat_8_C1.html#landsat_product_id',\n",
       "   'valueList': []},\n",
       "  {'fieldId': 20514,\n",
       "   'name': 'WRS Path',\n",
       "   'fieldLink': 'https://lta.cr.usgs.gov/Landsat_8_C1.html#wrs_path',\n",
       "   'valueList': []},\n",
       "  {'fieldId': 20516,\n",
       "   'name': 'WRS Row',\n",
       "   'fieldLink': 'https://lta.cr.usgs.gov/Landsat_8_C1.html#wrs_row',\n",
       "   'valueList': []},\n",
       "  {'fieldId': 20522,\n",
       "   'name': 'Land Cloud Cover',\n",
       "   'fieldLink': 'https://lta.cr.usgs.gov/Landsat_8_C1.html#land_cloud_cover',\n",
       "   'valueList': [{'value': None, 'name': 'All'},\n",
       "    {'value': '10', 'name': 'Less than 10%'},\n",
       "    {'value': '20', 'name': 'Less than 20%'},\n",
       "    {'value': '30', 'name': 'Less than 30%'},\n",
       "    {'value': '40', 'name': 'Less than 40%'},\n",
       "    {'value': '50', 'name': 'Less than 50%'},\n",
       "    {'value': '60', 'name': 'Less than 60%'},\n",
       "    {'value': '70', 'name': 'Less than 70%'},\n",
       "    {'value': '80', 'name': 'Less than 80%'},\n",
       "    {'value': '90', 'name': 'Less than 90%'},\n",
       "    {'value': '100', 'name': 'Less than 100%'}]},\n",
       "  {'fieldId': 20515,\n",
       "   'name': 'Scene Cloud Cover',\n",
       "   'fieldLink': 'https://lta.cr.usgs.gov/Landsat_8_C1.html#scene_cloud_cover',\n",
       "   'valueList': [{'value': None, 'name': 'All'},\n",
       "    {'value': '10', 'name': 'Less than 10%'},\n",
       "    {'value': '20', 'name': 'Less than 20%'},\n",
       "    {'value': '30', 'name': 'Less than 30%'},\n",
       "    {'value': '40', 'name': 'Less than 40%'},\n",
       "    {'value': '50', 'name': 'Less than 50%'},\n",
       "    {'value': '60', 'name': 'Less than 60%'},\n",
       "    {'value': '70', 'name': 'Less than 70%'},\n",
       "    {'value': '80', 'name': 'Less than 80%'},\n",
       "    {'value': '90', 'name': 'Less than 90%'},\n",
       "    {'value': '100', 'name': 'Less than 100%'}]},\n",
       "  {'fieldId': 20510,\n",
       "   'name': 'Collection Category',\n",
       "   'fieldLink': 'https://lta.cr.usgs.gov/Landsat_8_C1.html#collection_category',\n",
       "   'valueList': [{'value': None, 'name': 'All'},\n",
       "    {'value': 'T1', 'name': 'Tier 1'},\n",
       "    {'value': 'T2', 'name': 'Tier 2'},\n",
       "    {'value': 'RT', 'name': 'Real-Time'}]},\n",
       "  {'fieldId': 20517,\n",
       "   'name': 'Data Type Level-1',\n",
       "   'fieldLink': 'https://lta.cr.usgs.gov/Landsat_8_C1.html#data_type_l1',\n",
       "   'valueList': [{'value': None, 'name': 'All'},\n",
       "    {'value': 'L1TP', 'name': 'Level 1TP'},\n",
       "    {'value': 'L1GT', 'name': 'Level 1GT'},\n",
       "    {'value': 'L1GS', 'name': 'Level 1GS'}]},\n",
       "  {'fieldId': 20518,\n",
       "   'name': 'Sensor Identifier',\n",
       "   'fieldLink': 'https://lta.cr.usgs.gov/Landsat_8_C1.html#sensor_id        ',\n",
       "   'valueList': [{'value': None, 'name': 'All'},\n",
       "    {'value': 'OLI', 'name': 'OLI'},\n",
       "    {'value': 'OLI_TIRS', 'name': 'OLI_TIRS'},\n",
       "    {'value': 'TIRS', 'name': 'TIRS'}]},\n",
       "  {'fieldId': 20513,\n",
       "   'name': 'Day/Night Indicator',\n",
       "   'fieldLink': 'https://lta.cr.usgs.gov/Landsat_8_C1.html#day_or_night',\n",
       "   'valueList': [{'value': None, 'name': 'All'},\n",
       "    {'value': 'DAY', 'name': 'Day'},\n",
       "    {'value': 'NIGHT', 'name': 'Night'}]},\n",
       "  {'fieldId': 20511,\n",
       "   'name': 'Date L-1 Generated (Ex. YYYY/MM/DD)',\n",
       "   'fieldLink': 'https://lta.cr.usgs.gov/Landsat_8_C1.html#date_l1_generated',\n",
       "   'valueList': []},\n",
       "  {'fieldId': 20521,\n",
       "   'name': 'Geometric RMSE Model (meters)',\n",
       "   'fieldLink': 'https://lta.cr.usgs.gov/Landsat_8_C1.html#geometric_rmse_model',\n",
       "   'valueList': []},\n",
       "  {'fieldId': 20519,\n",
       "   'name': 'Nadir/Off Nadir',\n",
       "   'fieldLink': 'https://lta.cr.usgs.gov/Landsat_8_C1.html#nadir_offnadir',\n",
       "   'valueList': [{'value': None, 'name': 'All'},\n",
       "    {'value': 'NADIR', 'name': 'Nadir'},\n",
       "    {'value': 'OFFNADIR', 'name': 'Off Nadir'}]},\n",
       "  {'fieldId': 20512,\n",
       "   'name': 'Landsat Scene Identifier (Legacy)',\n",
       "   'fieldLink': 'https://lta.cr.usgs.gov/Landsat_8_C1.html#entity_id   ',\n",
       "   'valueList': []}],\n",
       " 'api_version': '1.3.0',\n",
       " 'access_level': 'approved',\n",
       " 'executionTime': 2.220025062561}"
      ]
     },
     "execution_count": 3,
     "metadata": {},
     "output_type": "execute_result"
    }
   ],
   "source": [
    "# get available metadata fields\n",
    "api.dataset_fields('LANDSAT_8_C1', 'EE')"
   ]
  },
  {
   "cell_type": "code",
   "execution_count": 66,
   "metadata": {
    "scrolled": false
   },
   "outputs": [
    {
     "name": "stdout",
     "output_type": "stream",
     "text": [
      "CPU times: user 27 ms, sys: 7.29 ms, total: 34.2 ms\n",
      "Wall time: 4.65 s\n"
     ]
    }
   ],
   "source": [
    "%%time\n",
    "start = date(year=2013, month=1, day=1)\n",
    "end = date(year=2017, month=1, day=1)\n",
    "\n",
    "# query for night time images around some Hawaiian Volcano\n",
    "roi_images = api.search('LANDSAT_8_C1', 'EE', lat=19.414405, lng=-155.272403, distance=300,\n",
    "           start_date='2013-04-01', end_date='2017-05-01', where={'20513':'Night'})"
   ]
  },
  {
   "cell_type": "code",
   "execution_count": 74,
   "metadata": {
    "scrolled": false
   },
   "outputs": [
    {
     "data": {
      "text/plain": [
       "216"
      ]
     },
     "execution_count": 74,
     "metadata": {},
     "output_type": "execute_result"
    }
   ],
   "source": [
    "roi_images['data']['numberReturned']"
   ]
  },
  {
   "cell_type": "code",
   "execution_count": 42,
   "metadata": {
    "scrolled": false
   },
   "outputs": [
    {
     "name": "stdout",
     "output_type": "stream",
     "text": [
      "CPU times: user 19.5 ms, sys: 3.29 ms, total: 22.8 ms\n",
      "Wall time: 2.87 s\n"
     ]
    }
   ],
   "source": [
    "%%time\n",
    "all_roi_images = api.search('LANDSAT_8_C1', 'EE', lat=19.414405, lng=-155.272403,\n",
    "           start_date='2014-01-01', end_date='2015-01-01', where={'20513':'Night'})"
   ]
  },
  {
   "cell_type": "code",
   "execution_count": 43,
   "metadata": {},
   "outputs": [
    {
     "data": {
      "text/plain": [
       "66"
      ]
     },
     "execution_count": 43,
     "metadata": {},
     "output_type": "execute_result"
    }
   ],
   "source": [
    "all_roi_images['data']['numberReturned']"
   ]
  },
  {
   "cell_type": "code",
   "execution_count": 44,
   "metadata": {
    "scrolled": false
   },
   "outputs": [
    {
     "data": {
      "text/plain": [
       "[{'acquisitionDate': '2014-12-31',\n",
       "  'startTime': '2014-12-31',\n",
       "  'endTime': '2014-12-31',\n",
       "  'lowerLeftCoordinate': {'latitude': 19.83761, 'longitude': -153.74461},\n",
       "  'upperLeftCoordinate': {'latitude': 18.10463, 'longitude': -153.35689},\n",
       "  'upperRightCoordinate': {'latitude': 17.73773, 'longitude': -155.11101},\n",
       "  'lowerRightCoordinate': {'latitude': 19.47255, 'longitude': -155.51769},\n",
       "  'spatialFootprint': None,\n",
       "  'sceneBounds': '-155.51769,17.73773,-153.35689,19.83761',\n",
       "  'browseUrl': 'https://earthexplorer.usgs.gov/browse/landsat_8/2014/165/197/LC08_L1GT_165197_20141231_20170415_01_T2.jpg',\n",
       "  'dataAccessUrl': 'https://earthexplorer.usgs.gov/order/process?dataset_name=LANDSAT_8_C1&ordered=LC81651972014365LGN01&node=INVSVC',\n",
       "  'downloadUrl': 'https://earthexplorer.usgs.gov/download/external/options/LANDSAT_8_C1/LC81651972014365LGN01/INVSVC/',\n",
       "  'entityId': 'LC81651972014365LGN01',\n",
       "  'displayId': 'LC08_L1GT_165197_20141231_20170415_01_T2',\n",
       "  'metadataUrl': 'https://earthexplorer.usgs.gov/metadata/xml/12864/LC81651972014365LGN01/',\n",
       "  'fgdcMetadataUrl': 'https://earthexplorer.usgs.gov/fgdc/12864/LC81651972014365LGN01/save_xml',\n",
       "  'modifiedDate': '2017-04-15',\n",
       "  'orderUrl': 'https://earthexplorer.usgs.gov/order/process?dataset_name=LANDSAT_8_C1&ordered=LC81651972014365LGN01&node=INVSVC',\n",
       "  'bulkOrdered': False,\n",
       "  'ordered': False,\n",
       "  'summary': 'Entity ID: LC08_L1GT_165197_20141231_20170415_01_T2, Acquisition Date: 31-DEC-14, Path: 165, Row: 197'}]"
      ]
     },
     "execution_count": 44,
     "metadata": {},
     "output_type": "execute_result"
    }
   ],
   "source": [
    "all_roi_images['data']['results'][:1]"
   ]
  },
  {
   "cell_type": "code",
   "execution_count": 46,
   "metadata": {},
   "outputs": [
    {
     "data": {
      "text/plain": [
       "2014"
      ]
     },
     "execution_count": 46,
     "metadata": {},
     "output_type": "execute_result"
    }
   ],
   "source": [
    "from datetime import datetime\n",
    "\n",
    "datetime.strptime(all_roi_images['data']['results'][0]['acquisitionDate'], '%Y-%m-%d').year"
   ]
  },
  {
   "cell_type": "code",
   "execution_count": null,
   "metadata": {},
   "outputs": [],
   "source": []
  },
  {
   "cell_type": "code",
   "execution_count": 39,
   "metadata": {
    "scrolled": false
   },
   "outputs": [
    {
     "name": "stdout",
     "output_type": "stream",
     "text": [
      "2016-12-27 00:00:00\n",
      "Downloading: LC81661972016362LGN01 from https://dds.cr.usgs.gov/ltaauth/hsm/lsat1/collection01/oli_tirs/T2/2016/166/197/LC08_L1GT_166197_20161227_20170314_01_T2.tar.gz?id=o0lbpvadg8qao83as05346r4n1&iid=LC81661972016362LGN01&did=417281423&ver=production\n",
      "Extracting to /data/sat_images/landsat8/2016/197/166/LC81661972016362LGN01\n",
      "Removing LC81661972016362LGN01.tar.gz\n",
      "2016-12-20 00:00:00\n",
      "Downloading: LC81651972016355LGN02 from https://dds.cr.usgs.gov/ltaauth/hsm/lsat1/collection01/oli_tirs/T2/2016/165/197/LC08_L1GT_165197_20161220_20170315_01_T2.tar.gz?id=k6n718c7ilhug3htt5ol8c51g2&iid=LC81651972016355LGN02&did=417281740&ver=production\n",
      "Extracting to /data/sat_images/landsat8/2016/197/165/LC81651972016355LGN02\n",
      "Removing LC81651972016355LGN02.tar.gz\n",
      "2016-12-20 00:00:00\n",
      "Downloading: LC81651982016355LGN02 from https://dds.cr.usgs.gov/ltaauth/hsm/lsat1/collection01/oli_tirs/T2/2016/165/198/LC08_L1GT_165198_20161220_20170315_01_T2.tar.gz?id=j9vm8ovgh32arn4quei81tihn4&iid=LC81651982016355LGN02&did=417282087&ver=production\n",
      "Extracting to /data/sat_images/landsat8/2016/198/165/LC81651982016355LGN02\n",
      "Removing LC81651982016355LGN02.tar.gz\n",
      "2016-12-11 00:00:00\n",
      "Downloading: LC81661972016346LGN01 from https://dds.cr.usgs.gov/ltaauth/hsm/lsat1/collection01/oli_tirs/T2/2016/166/197/LC08_L1GT_166197_20161211_20170316_01_T2.tar.gz?id=v97m10145jngvn3982emi535h1&iid=LC81661972016346LGN01&did=417282380&ver=production\n",
      "Extracting to /data/sat_images/landsat8/2016/197/166/LC81661972016346LGN01\n",
      "Removing LC81661972016346LGN01.tar.gz\n",
      "2016-12-04 00:00:00\n",
      "Downloading: LC81651972016339LGN01 from https://dds.cr.usgs.gov/ltaauth/hsm/lsat1/collection01/oli_tirs/T2/2016/165/197/LC08_L1GT_165197_20161204_20170317_01_T2.tar.gz?id=t9p8g5bua3vqle14f1vldpes92&iid=LC81651972016339LGN01&did=417282685&ver=production\n",
      "Extracting to /data/sat_images/landsat8/2016/197/165/LC81651972016339LGN01\n",
      "Removing LC81651972016339LGN01.tar.gz\n",
      "2016-12-04 00:00:00\n",
      "Downloading: LC81651982016339LGN01 from https://dds.cr.usgs.gov/ltaauth/hsm/lsat1/collection01/oli_tirs/T2/2016/165/198/LC08_L1GT_165198_20161204_20170317_01_T2.tar.gz?id=1k4ch83phg5eruo1ofp2nr9bt7&iid=LC81651982016339LGN01&did=417283100&ver=production\n",
      "Extracting to /data/sat_images/landsat8/2016/198/165/LC81651982016339LGN01\n",
      "Removing LC81651982016339LGN01.tar.gz\n",
      "2016-11-25 00:00:00\n",
      "Downloading: LC81661972016330LGN01 from https://dds.cr.usgs.gov/ltaauth/hsm/lsat1/collection01/oli_tirs/T2/2016/166/197/LC08_L1GT_166197_20161125_20170317_01_T2.tar.gz?id=vjt5m41a3mu79m1tqh7lr6ve83&iid=LC81661972016330LGN01&did=417283538&ver=production\n",
      "Extracting to /data/sat_images/landsat8/2016/197/166/LC81661972016330LGN01\n",
      "Removing LC81661972016330LGN01.tar.gz\n",
      "2016-11-18 00:00:00\n",
      "Downloading: LC81651972016323LGN01 from https://dds.cr.usgs.gov/ltaauth/hsm/lsat1/collection01/oli_tirs/T2/2016/165/197/LC08_L1GT_165197_20161118_20170318_01_T2.tar.gz?id=ohofao39v0ki4lnn87lf4slpu5&iid=LC81651972016323LGN01&did=417283878&ver=production\n",
      "Extracting to /data/sat_images/landsat8/2016/197/165/LC81651972016323LGN01\n",
      "Removing LC81651972016323LGN01.tar.gz\n",
      "2016-11-18 00:00:00\n",
      "Downloading: LC81651982016323LGN01 from https://dds.cr.usgs.gov/ltaauth/hsm/lsat1/collection01/oli_tirs/T2/2016/165/198/LC08_L1GT_165198_20161118_20170318_01_T2.tar.gz?id=r46jdblsfajr21omldkjd449m3&iid=LC81651982016323LGN01&did=417284195&ver=production\n",
      "Extracting to /data/sat_images/landsat8/2016/198/165/LC81651982016323LGN01\n",
      "Removing LC81651982016323LGN01.tar.gz\n",
      "2016-11-09 00:00:00\n",
      "Downloading: LC81661972016314LGN01 from https://dds.cr.usgs.gov/ltaauth/hsm/lsat1/collection01/oli_tirs/T2/2016/166/197/LC08_L1GT_166197_20161109_20170318_01_T2.tar.gz?id=i48vg7v5odr5958l8s3v0n33n7&iid=LC81661972016314LGN01&did=417284470&ver=production\n",
      "Extracting to /data/sat_images/landsat8/2016/197/166/LC81661972016314LGN01\n",
      "Removing LC81661972016314LGN01.tar.gz\n",
      "2016-11-02 00:00:00\n",
      "Downloading: LC81651972016307LGN01 from https://dds.cr.usgs.gov/ltaauth/hsm/lsat1/collection01/oli_tirs/T2/2016/165/197/LC08_L1GT_165197_20161102_20170318_01_T2.tar.gz?id=as7dr0ggt55v0q9tdtp6q2rki1&iid=LC81651972016307LGN01&did=417284776&ver=production\n",
      "Extracting to /data/sat_images/landsat8/2016/197/165/LC81651972016307LGN01\n",
      "Removing LC81651972016307LGN01.tar.gz\n",
      "2016-11-02 00:00:00\n",
      "Downloading: LC81651982016307LGN01 from https://dds.cr.usgs.gov/ltaauth/hsm/lsat1/collection01/oli_tirs/T2/2016/165/198/LC08_L1GT_165198_20161102_20170318_01_T2.tar.gz?id=d37jrmh0l74kpfk6r39pa5fdk5&iid=LC81651982016307LGN01&did=417285116&ver=production\n",
      "Extracting to /data/sat_images/landsat8/2016/198/165/LC81651982016307LGN01\n",
      "Removing LC81651982016307LGN01.tar.gz\n",
      "2016-10-24 00:00:00\n",
      "Downloading: LC81661972016298LGN01 from https://dds.cr.usgs.gov/ltaauth/hsm/lsat1/collection01/oli_tirs/T2/2016/166/197/LC08_L1GT_166197_20161024_20170318_01_T2.tar.gz?id=tdpn14batb09g3hke1e51pg2d2&iid=LC81661972016298LGN01&did=417285549&ver=production\n",
      "Extracting to /data/sat_images/landsat8/2016/197/166/LC81661972016298LGN01\n",
      "Removing LC81661972016298LGN01.tar.gz\n",
      "2016-10-17 00:00:00\n",
      "Downloading: LC81651972016291LGN01 from https://dds.cr.usgs.gov/ltaauth/hsm/lsat1/collection01/oli_tirs/T2/2016/165/197/LC08_L1GT_165197_20161017_20170319_01_T2.tar.gz?id=6rop1fdagb4eppv5579cb9lcq0&iid=LC81651972016291LGN01&did=417285812&ver=production\n",
      "Extracting to /data/sat_images/landsat8/2016/197/165/LC81651972016291LGN01\n",
      "Removing LC81651972016291LGN01.tar.gz\n",
      "2016-10-17 00:00:00\n",
      "Downloading: LC81651982016291LGN01 from https://dds.cr.usgs.gov/ltaauth/hsm/lsat1/collection01/oli_tirs/T2/2016/165/198/LC08_L1GT_165198_20161017_20170319_01_T2.tar.gz?id=0bmhvkoclut93e9ed15ec6eio7&iid=LC81651982016291LGN01&did=417286272&ver=production\n",
      "Extracting to /data/sat_images/landsat8/2016/198/165/LC81651982016291LGN01\n",
      "Removing LC81651982016291LGN01.tar.gz\n",
      "2016-10-08 00:00:00\n",
      "Downloading: LC81661972016282LGN01 from https://dds.cr.usgs.gov/ltaauth/hsm/lsat1/collection01/oli_tirs/T2/2016/166/197/LC08_L1GT_166197_20161008_20170320_01_T2.tar.gz?id=a9l8f04n221js6rn4hp46lb5e7&iid=LC81661972016282LGN01&did=417286588&ver=production\n",
      "Extracting to /data/sat_images/landsat8/2016/197/166/LC81661972016282LGN01\n",
      "Removing LC81661972016282LGN01.tar.gz\n",
      "2016-10-01 00:00:00\n",
      "Downloading: LC81651972016275LGN01 from https://dds.cr.usgs.gov/ltaauth/hsm/lsat1/collection01/oli_tirs/T2/2016/165/197/LC08_L1GT_165197_20161001_20170320_01_T2.tar.gz?id=8i5kcqunc0ri8eois4akokaav4&iid=LC81651972016275LGN01&did=417286981&ver=production\n",
      "Extracting to /data/sat_images/landsat8/2016/197/165/LC81651972016275LGN01\n",
      "Removing LC81651972016275LGN01.tar.gz\n",
      "2016-10-01 00:00:00\n",
      "Downloading: LC81651982016275LGN01 from https://dds.cr.usgs.gov/ltaauth/hsm/lsat1/collection01/oli_tirs/T2/2016/165/198/LC08_L1GT_165198_20161001_20170320_01_T2.tar.gz?id=mrmvhiaru8l04h531nalno1cs2&iid=LC81651982016275LGN01&did=417287245&ver=production\n",
      "Extracting to /data/sat_images/landsat8/2016/198/165/LC81651982016275LGN01\n",
      "Removing LC81651982016275LGN01.tar.gz\n",
      "2016-09-22 00:00:00\n",
      "Downloading: LC81661972016266LGN02 from https://dds.cr.usgs.gov/ltaauth/hsm/lsat1/collection01/oli_tirs/T2/2016/166/197/LC08_L1GT_166197_20160922_20170320_01_T2.tar.gz?id=a1e6614b7vq927f9u2phrofs16&iid=LC81661972016266LGN02&did=417287569&ver=production\n",
      "Extracting to /data/sat_images/landsat8/2016/197/166/LC81661972016266LGN02\n",
      "Removing LC81661972016266LGN02.tar.gz\n",
      "2016-09-15 00:00:00\n",
      "Downloading: LC81651972016259LGN01 from https://dds.cr.usgs.gov/ltaauth/hsm/lsat1/collection01/oli_tirs/T2/2016/165/197/LC08_L1GT_165197_20160915_20170321_01_T2.tar.gz?id=7ma0mgc7smf094kapdd4pql0d1&iid=LC81651972016259LGN01&did=417288110&ver=production\n",
      "Extracting to /data/sat_images/landsat8/2016/197/165/LC81651972016259LGN01\n",
      "Removing LC81651972016259LGN01.tar.gz\n",
      "2016-09-15 00:00:00\n",
      "Downloading: LC81651982016259LGN01 from https://dds.cr.usgs.gov/ltaauth/hsm/lsat1/collection01/oli_tirs/T2/2016/165/198/LC08_L1GT_165198_20160915_20170321_01_T2.tar.gz?id=q8t5nancs48hu8m55k26tautb5&iid=LC81651982016259LGN01&did=417288464&ver=production\n",
      "Extracting to /data/sat_images/landsat8/2016/198/165/LC81651982016259LGN01\n",
      "Removing LC81651982016259LGN01.tar.gz\n",
      "2016-09-06 00:00:00\n",
      "Downloading: LC81661972016250LGN01 from https://dds.cr.usgs.gov/ltaauth/hsm/lsat1/collection01/oli_tirs/T2/2016/166/197/LC08_L1GT_166197_20160906_20170321_01_T2.tar.gz?id=1i2ccrtub2f893r38gu4c6pou7&iid=LC81661972016250LGN01&did=417288880&ver=production\n"
     ]
    },
    {
     "name": "stdout",
     "output_type": "stream",
     "text": [
      "Extracting to /data/sat_images/landsat8/2016/197/166/LC81661972016250LGN01\n",
      "Removing LC81661972016250LGN01.tar.gz\n",
      "2016-08-30 00:00:00\n",
      "Downloading: LC81651972016243LGN01 from https://dds.cr.usgs.gov/ltaauth/hsm/lsat1/collection01/oli_tirs/T2/2016/165/197/LC08_L1GT_165197_20160830_20170321_01_T2.tar.gz?id=4vdfhm2dbb0s0kh41osun7oa72&iid=LC81651972016243LGN01&did=417289148&ver=production\n",
      "Extracting to /data/sat_images/landsat8/2016/197/165/LC81651972016243LGN01\n",
      "Removing LC81651972016243LGN01.tar.gz\n",
      "2016-08-30 00:00:00\n",
      "Downloading: LC81651982016243LGN01 from https://dds.cr.usgs.gov/ltaauth/hsm/lsat1/collection01/oli_tirs/T2/2016/165/198/LC08_L1GT_165198_20160830_20170321_01_T2.tar.gz?id=nld5hsujc1n18rf479co9avld3&iid=LC81651982016243LGN01&did=417289429&ver=production\n",
      "Extracting to /data/sat_images/landsat8/2016/198/165/LC81651982016243LGN01\n",
      "Removing LC81651982016243LGN01.tar.gz\n",
      "2016-08-21 00:00:00\n",
      "Downloading: LC81661972016234LGN01 from https://dds.cr.usgs.gov/ltaauth/hsm/lsat1/collection01/oli_tirs/T2/2016/166/197/LC08_L1GT_166197_20160821_20170322_01_T2.tar.gz?id=ueksjfi0f7g9q6dt70hhgbm696&iid=LC81661972016234LGN01&did=417289712&ver=production\n",
      "Extracting to /data/sat_images/landsat8/2016/197/166/LC81661972016234LGN01\n",
      "Removing LC81661972016234LGN01.tar.gz\n",
      "2016-08-14 00:00:00\n",
      "Downloading: LC81651972016227LGN01 from https://dds.cr.usgs.gov/ltaauth/hsm/lsat1/collection01/oli_tirs/T2/2016/165/197/LC08_L1GT_165197_20160814_20170322_01_T2.tar.gz?id=0qdbhrqirehbt652hie5r68qc3&iid=LC81651972016227LGN01&did=417290076&ver=production\n",
      "Extracting to /data/sat_images/landsat8/2016/197/165/LC81651972016227LGN01\n",
      "Removing LC81651972016227LGN01.tar.gz\n",
      "2016-08-14 00:00:00\n",
      "Downloading: LC81651982016227LGN01 from https://dds.cr.usgs.gov/ltaauth/hsm/lsat1/collection01/oli_tirs/T2/2016/165/198/LC08_L1GT_165198_20160814_20170322_01_T2.tar.gz?id=f12rk46je4s0klf760oimdkg53&iid=LC81651982016227LGN01&did=417290396&ver=production\n",
      "Extracting to /data/sat_images/landsat8/2016/198/165/LC81651982016227LGN01\n",
      "Removing LC81651982016227LGN01.tar.gz\n",
      "2016-08-05 00:00:00\n",
      "Downloading: LC81661972016218LGN01 from https://dds.cr.usgs.gov/ltaauth/hsm/lsat1/collection01/oli_tirs/T2/2016/166/197/LC08_L1GT_166197_20160805_20170322_01_T2.tar.gz?id=bvfdrv4nkvrqrimtvqmq7h5ee1&iid=LC81661972016218LGN01&did=417290851&ver=production\n",
      "Extracting to /data/sat_images/landsat8/2016/197/166/LC81661972016218LGN01\n",
      "Removing LC81661972016218LGN01.tar.gz\n",
      "2016-07-29 00:00:00\n",
      "Downloading: LC81651972016211LGN01 from https://dds.cr.usgs.gov/ltaauth/hsm/lsat1/collection01/oli_tirs/T2/2016/165/197/LC08_L1GT_165197_20160729_20170322_01_T2.tar.gz?id=rvcma3q7pctbbaatriiotr55r7&iid=LC81651972016211LGN01&did=417291219&ver=production\n",
      "Extracting to /data/sat_images/landsat8/2016/197/165/LC81651972016211LGN01\n",
      "Removing LC81651972016211LGN01.tar.gz\n",
      "2016-07-29 00:00:00\n",
      "Downloading: LC81651982016211LGN01 from https://dds.cr.usgs.gov/ltaauth/hsm/lsat1/collection01/oli_tirs/T2/2016/165/198/LC08_L1GT_165198_20160729_20170322_01_T2.tar.gz?id=jll5gagbkin0np03kmebht68q7&iid=LC81651982016211LGN01&did=417291731&ver=production\n",
      "Extracting to /data/sat_images/landsat8/2016/198/165/LC81651982016211LGN01\n",
      "Removing LC81651982016211LGN01.tar.gz\n",
      "2016-07-20 00:00:00\n",
      "Downloading: LC81661972016202LGN01 from https://dds.cr.usgs.gov/ltaauth/hsm/lsat1/collection01/oli_tirs/T2/2016/166/197/LC08_L1GT_166197_20160720_20170323_01_T2.tar.gz?id=63uiq1p4jabtmjspgc1vg1gl32&iid=LC81661972016202LGN01&did=417292131&ver=production\n",
      "Extracting to /data/sat_images/landsat8/2016/197/166/LC81661972016202LGN01\n",
      "Removing LC81661972016202LGN01.tar.gz\n",
      "2016-07-13 00:00:00\n",
      "Downloading: LC81651972016195LGN01 from https://dds.cr.usgs.gov/ltaauth/hsm/lsat1/collection01/oli_tirs/T2/2016/165/197/LC08_L1GT_165197_20160713_20170323_01_T2.tar.gz?id=qfg2aonpgd3g7agu8bogmm6nh3&iid=LC81651972016195LGN01&did=417292481&ver=production\n",
      "Extracting to /data/sat_images/landsat8/2016/197/165/LC81651972016195LGN01\n",
      "Removing LC81651972016195LGN01.tar.gz\n",
      "2016-07-13 00:00:00\n",
      "Downloading: LC81651982016195LGN01 from https://dds.cr.usgs.gov/ltaauth/hsm/lsat1/collection01/oli_tirs/T2/2016/165/198/LC08_L1GT_165198_20160713_20170323_01_T2.tar.gz?id=bk7s276gbve7p99d9ismfdgjf6&iid=LC81651982016195LGN01&did=417292793&ver=production\n",
      "Extracting to /data/sat_images/landsat8/2016/198/165/LC81651982016195LGN01\n",
      "Removing LC81651982016195LGN01.tar.gz\n",
      "2016-07-04 00:00:00\n",
      "Downloading: LC81661972016186LGN01 from https://dds.cr.usgs.gov/ltaauth/hsm/lsat1/collection01/oli_tirs/T2/2016/166/197/LC08_L1GT_166197_20160704_20170323_01_T2.tar.gz?id=vkn20eh88j59picv0kj8v70pd7&iid=LC81661972016186LGN01&did=417293202&ver=production\n",
      "Extracting to /data/sat_images/landsat8/2016/197/166/LC81661972016186LGN01\n",
      "Removing LC81661972016186LGN01.tar.gz\n",
      "2016-06-27 00:00:00\n",
      "Downloading: LC81651972016179LGN01 from https://dds.cr.usgs.gov/ltaauth/hsm/lsat1/collection01/oli_tirs/T2/2016/165/197/LC08_L1GT_165197_20160627_20170323_01_T2.tar.gz?id=99hqrhrrenqso0jkgn9fr9agr6&iid=LC81651972016179LGN01&did=417293633&ver=production\n",
      "Extracting to /data/sat_images/landsat8/2016/197/165/LC81651972016179LGN01\n",
      "Removing LC81651972016179LGN01.tar.gz\n",
      "2016-06-27 00:00:00\n",
      "Downloading: LC81651982016179LGN01 from https://dds.cr.usgs.gov/ltaauth/hsm/lsat1/collection01/oli_tirs/T2/2016/165/198/LC08_L1GT_165198_20160627_20170323_01_T2.tar.gz?id=8jmuq019k02ggn0ceip5ff32g6&iid=LC81651982016179LGN01&did=417294020&ver=production\n",
      "Extracting to /data/sat_images/landsat8/2016/198/165/LC81651982016179LGN01\n",
      "Removing LC81651982016179LGN01.tar.gz\n",
      "2016-06-18 00:00:00\n",
      "Downloading: LC81661972016170LGN01 from https://dds.cr.usgs.gov/ltaauth/hsm/lsat1/collection01/oli_tirs/T2/2016/166/197/LC08_L1GT_166197_20160618_20170323_01_T2.tar.gz?id=ve77kui8vrdsrkq4co0ookv534&iid=LC81661972016170LGN01&did=417294321&ver=production\n",
      "Extracting to /data/sat_images/landsat8/2016/197/166/LC81661972016170LGN01\n",
      "Removing LC81661972016170LGN01.tar.gz\n",
      "2016-06-11 00:00:00\n",
      "Downloading: LC81651972016163LGN01 from https://dds.cr.usgs.gov/ltaauth/hsm/lsat1/collection01/oli_tirs/T2/2016/165/197/LC08_L1GT_165197_20160611_20170324_01_T2.tar.gz?id=tebavbsbamrm7is4g25ts2cd65&iid=LC81651972016163LGN01&did=417294722&ver=production\n",
      "Extracting to /data/sat_images/landsat8/2016/197/165/LC81651972016163LGN01\n",
      "Removing LC81651972016163LGN01.tar.gz\n",
      "2016-06-11 00:00:00\n",
      "Downloading: LC81651982016163LGN01 from https://dds.cr.usgs.gov/ltaauth/hsm/lsat1/collection01/oli_tirs/T2/2016/165/198/LC08_L1GT_165198_20160611_20170324_01_T2.tar.gz?id=b6b924uu7fb90kctram2sejbp7&iid=LC81651982016163LGN01&did=417295158&ver=production\n",
      "Extracting to /data/sat_images/landsat8/2016/198/165/LC81651982016163LGN01\n",
      "Removing LC81651982016163LGN01.tar.gz\n",
      "2016-06-02 00:00:00\n",
      "Downloading: LC81661972016154LGN01 from https://dds.cr.usgs.gov/ltaauth/hsm/lsat1/collection01/oli_tirs/T2/2016/166/197/LC08_L1GT_166197_20160602_20170324_01_T2.tar.gz?id=tjjk2ff0ljodoihgi6608et2d7&iid=LC81661972016154LGN01&did=417295480&ver=production\n",
      "Extracting to /data/sat_images/landsat8/2016/197/166/LC81661972016154LGN01\n",
      "Removing LC81661972016154LGN01.tar.gz\n",
      "2016-05-26 00:00:00\n",
      "Downloading: LC81651972016147LGN01 from https://dds.cr.usgs.gov/ltaauth/hsm/lsat1/collection01/oli_tirs/T2/2016/165/197/LC08_L1GT_165197_20160526_20170324_01_T2.tar.gz?id=imoq5v6o3u8o1ads786ib1nrs0&iid=LC81651972016147LGN01&did=417295769&ver=production\n",
      "Extracting to /data/sat_images/landsat8/2016/197/165/LC81651972016147LGN01\n",
      "Removing LC81651972016147LGN01.tar.gz\n",
      "2016-05-26 00:00:00\n",
      "Downloading: LC81651982016147LGN01 from https://dds.cr.usgs.gov/ltaauth/hsm/lsat1/collection01/oli_tirs/T2/2016/165/198/LC08_L1GT_165198_20160526_20170324_01_T2.tar.gz?id=cuu9j6qflh6vkvv5s7p3cikok0&iid=LC81651982016147LGN01&did=417296082&ver=production\n",
      "Extracting to /data/sat_images/landsat8/2016/198/165/LC81651982016147LGN01\n",
      "Removing LC81651982016147LGN01.tar.gz\n",
      "2016-05-17 00:00:00\n",
      "Downloading: LC81661972016138LGN01 from https://dds.cr.usgs.gov/ltaauth/hsm/lsat1/collection01/oli_tirs/T2/2016/166/197/LC08_L1GT_166197_20160517_20170324_01_T2.tar.gz?id=7sr034tctneineb470todgc3u0&iid=LC81661972016138LGN01&did=417296496&ver=production\n",
      "Extracting to /data/sat_images/landsat8/2016/197/166/LC81661972016138LGN01\n",
      "Removing LC81661972016138LGN01.tar.gz\n",
      "2016-05-10 00:00:00\n"
     ]
    },
    {
     "name": "stdout",
     "output_type": "stream",
     "text": [
      "Downloading: LC81651972016131LGN01 from https://dds.cr.usgs.gov/ltaauth/hsm/lsat1/collection01/oli_tirs/T2/2016/165/197/LC08_L1GT_165197_20160510_20170325_01_T2.tar.gz?id=6vfupdcdr62mc2oe1hqeep0jg6&iid=LC81651972016131LGN01&did=417296809&ver=production\n",
      "Extracting to /data/sat_images/landsat8/2016/197/165/LC81651972016131LGN01\n",
      "Removing LC81651972016131LGN01.tar.gz\n",
      "2016-05-10 00:00:00\n",
      "Downloading: LC81651982016131LGN01 from https://dds.cr.usgs.gov/ltaauth/hsm/lsat1/collection01/oli_tirs/T2/2016/165/198/LC08_L1GT_165198_20160510_20170325_01_T2.tar.gz?id=gurignddh2dga575aimt7894s5&iid=LC81651982016131LGN01&did=417297114&ver=production\n",
      "Extracting to /data/sat_images/landsat8/2016/198/165/LC81651982016131LGN01\n",
      "Removing LC81651982016131LGN01.tar.gz\n",
      "2016-05-01 00:00:00\n",
      "Downloading: LC81661972016122LGN01 from https://dds.cr.usgs.gov/ltaauth/hsm/lsat1/collection01/oli_tirs/T2/2016/166/197/LC08_L1GT_166197_20160501_20170325_01_T2.tar.gz?id=r0i6fldin65qn319id3u23e7p5&iid=LC81661972016122LGN01&did=417297403&ver=production\n",
      "Extracting to /data/sat_images/landsat8/2016/197/166/LC81661972016122LGN01\n",
      "Removing LC81661972016122LGN01.tar.gz\n",
      "2016-04-24 00:00:00\n",
      "Downloading: LC81651972016115LGN01 from https://dds.cr.usgs.gov/ltaauth/hsm/lsat1/collection01/oli_tirs/T2/2016/165/197/LC08_L1GT_165197_20160424_20170326_01_T2.tar.gz?id=lss3l6uj8f61lijdeub4i2fc34&iid=LC81651972016115LGN01&did=417297736&ver=production\n",
      "Extracting to /data/sat_images/landsat8/2016/197/165/LC81651972016115LGN01\n",
      "Removing LC81651972016115LGN01.tar.gz\n",
      "2016-04-24 00:00:00\n",
      "Downloading: LC81651982016115LGN01 from https://dds.cr.usgs.gov/ltaauth/hsm/lsat1/collection01/oli_tirs/T2/2016/165/198/LC08_L1GT_165198_20160424_20170326_01_T2.tar.gz?id=qk1nli8qcs5s7foqlf41la6o05&iid=LC81651982016115LGN01&did=417298048&ver=production\n",
      "Extracting to /data/sat_images/landsat8/2016/198/165/LC81651982016115LGN01\n",
      "Removing LC81651982016115LGN01.tar.gz\n",
      "2016-04-15 00:00:00\n",
      "Downloading: LC81661972016106LGN01 from https://dds.cr.usgs.gov/ltaauth/hsm/lsat1/collection01/oli_tirs/T2/2016/166/197/LC08_L1GT_166197_20160415_20170326_01_T2.tar.gz?id=ri5biabq1f09aqj99nep3umk92&iid=LC81661972016106LGN01&did=417298390&ver=production\n",
      "Extracting to /data/sat_images/landsat8/2016/197/166/LC81661972016106LGN01\n",
      "Removing LC81661972016106LGN01.tar.gz\n",
      "2016-04-08 00:00:00\n",
      "Downloading: LC81651972016099LGN01 from https://dds.cr.usgs.gov/ltaauth/hsm/lsat1/collection01/oli_tirs/T2/2016/165/197/LC08_L1GT_165197_20160408_20170326_01_T2.tar.gz?id=g96nnopk8qtiv0in51fc96olj1&iid=LC81651972016099LGN01&did=417298725&ver=production\n",
      "Extracting to /data/sat_images/landsat8/2016/197/165/LC81651972016099LGN01\n",
      "Removing LC81651972016099LGN01.tar.gz\n",
      "2016-04-08 00:00:00\n",
      "Downloading: LC81651982016099LGN01 from https://dds.cr.usgs.gov/ltaauth/hsm/lsat1/collection01/oli_tirs/T2/2016/165/198/LC08_L1GT_165198_20160408_20170326_01_T2.tar.gz?id=47s82lf1dof9phoghtvnah1bi0&iid=LC81651982016099LGN01&did=417299023&ver=production\n",
      "Extracting to /data/sat_images/landsat8/2016/198/165/LC81651982016099LGN01\n",
      "Removing LC81651982016099LGN01.tar.gz\n",
      "2016-03-30 00:00:00\n",
      "Downloading: LC81661972016090LGN01 from https://dds.cr.usgs.gov/ltaauth/hsm/lsat1/collection01/oli_tirs/T2/2016/166/197/LC08_L1GT_166197_20160330_20170327_01_T2.tar.gz?id=s3kn9cv2ph5j4r9k5osa4bl3h2&iid=LC81661972016090LGN01&did=417299310&ver=production\n",
      "Extracting to /data/sat_images/landsat8/2016/197/166/LC81661972016090LGN01\n",
      "Removing LC81661972016090LGN01.tar.gz\n",
      "2016-03-23 00:00:00\n",
      "Downloading: LC81651972016083LGN01 from https://dds.cr.usgs.gov/ltaauth/hsm/lsat1/collection01/oli_tirs/T2/2016/165/197/LC08_L1GT_165197_20160323_20170327_01_T2.tar.gz?id=q3i72umq5j69me30njoavui1b6&iid=LC81651972016083LGN01&did=417299611&ver=production\n",
      "Extracting to /data/sat_images/landsat8/2016/197/165/LC81651972016083LGN01\n",
      "Removing LC81651972016083LGN01.tar.gz\n",
      "2016-03-23 00:00:00\n",
      "Downloading: LC81651982016083LGN01 from https://dds.cr.usgs.gov/ltaauth/hsm/lsat1/collection01/oli_tirs/T2/2016/165/198/LC08_L1GT_165198_20160323_20170327_01_T2.tar.gz?id=mg2e2ekn0ppqt2e9lpst0vfe64&iid=LC81651982016083LGN01&did=417299973&ver=production\n",
      "Extracting to /data/sat_images/landsat8/2016/198/165/LC81651982016083LGN01\n",
      "Removing LC81651982016083LGN01.tar.gz\n",
      "2016-03-14 00:00:00\n",
      "Downloading: LC81661972016074LGN01 from https://dds.cr.usgs.gov/ltaauth/hsm/lsat1/collection01/oli_tirs/T2/2016/166/197/LC08_L1GT_166197_20160314_20170328_01_T2.tar.gz?id=hdoh3qfg2dnhkh4fou4l6o7kl6&iid=LC81661972016074LGN01&did=417300245&ver=production\n",
      "Extracting to /data/sat_images/landsat8/2016/197/166/LC81661972016074LGN01\n",
      "Removing LC81661972016074LGN01.tar.gz\n",
      "2016-03-07 00:00:00\n",
      "Downloading: LC81651972016067LGN01 from https://dds.cr.usgs.gov/ltaauth/hsm/lsat1/collection01/oli_tirs/T2/2016/165/197/LC08_L1GT_165197_20160307_20170328_01_T2.tar.gz?id=6t4hsaoucajjdpmgd8n9vi33e4&iid=LC81651972016067LGN01&did=417300569&ver=production\n",
      "Extracting to /data/sat_images/landsat8/2016/197/165/LC81651972016067LGN01\n",
      "Removing LC81651972016067LGN01.tar.gz\n",
      "2016-03-07 00:00:00\n",
      "Downloading: LC81651982016067LGN01 from https://dds.cr.usgs.gov/ltaauth/hsm/lsat1/collection01/oli_tirs/T2/2016/165/198/LC08_L1GT_165198_20160307_20170328_01_T2.tar.gz?id=duh6ngvpl3hq6t9tovcdbalrm0&iid=LC81651982016067LGN01&did=417300841&ver=production\n",
      "Extracting to /data/sat_images/landsat8/2016/198/165/LC81651982016067LGN01\n",
      "Removing LC81651982016067LGN01.tar.gz\n",
      "2016-02-27 00:00:00\n",
      "Downloading: LC81661972016058LGN01 from https://dds.cr.usgs.gov/ltaauth/hsm/lsat1/collection01/oli_tirs/T2/2016/166/197/LC08_L1GT_166197_20160227_20170329_01_T2.tar.gz?id=eb8ahll8eq32hratkh19c0t5a1&iid=LC81661972016058LGN01&did=417301090&ver=production\n",
      "Extracting to /data/sat_images/landsat8/2016/197/166/LC81661972016058LGN01\n",
      "Removing LC81661972016058LGN01.tar.gz\n",
      "2016-02-20 00:00:00\n",
      "Downloading: LC81651972016051LGN01 from https://dds.cr.usgs.gov/ltaauth/hsm/lsat1/collection01/oli_tirs/T2/2016/165/197/LC08_L1GT_165197_20160220_20170329_01_T2.tar.gz?id=rfe4ph48tjur54ik9pb0k1q633&iid=LC81651972016051LGN01&did=417301564&ver=production\n",
      "Extracting to /data/sat_images/landsat8/2016/197/165/LC81651972016051LGN01\n",
      "Removing LC81651972016051LGN01.tar.gz\n",
      "2016-02-20 00:00:00\n",
      "Downloading: LC81651982016051LGN01 from https://dds.cr.usgs.gov/ltaauth/hsm/lsat1/collection01/oli_tirs/T2/2016/165/198/LC08_L1GT_165198_20160220_20170329_01_T2.tar.gz?id=r1s78ig2lif45g9a912o23ecg0&iid=LC81651982016051LGN01&did=417301874&ver=production\n",
      "Extracting to /data/sat_images/landsat8/2016/198/165/LC81651982016051LGN01\n",
      "Removing LC81651982016051LGN01.tar.gz\n",
      "2016-02-11 00:00:00\n",
      "Downloading: LC81661972016042LGN01 from https://dds.cr.usgs.gov/ltaauth/hsm/lsat1/collection01/oli_tirs/T2/2016/166/197/LC08_L1GT_166197_20160211_20170330_01_T2.tar.gz?id=4o4qki8g94ua9djvatkkp7n6e0&iid=LC81661972016042LGN01&did=417302203&ver=production\n",
      "Extracting to /data/sat_images/landsat8/2016/197/166/LC81661972016042LGN01\n",
      "Removing LC81661972016042LGN01.tar.gz\n",
      "2016-02-04 00:00:00\n",
      "Downloading: LC81651972016035LGN01 from https://dds.cr.usgs.gov/ltaauth/hsm/lsat1/collection01/oli_tirs/T2/2016/165/197/LC08_L1GT_165197_20160204_20170330_01_T2.tar.gz?id=ocf173kue24c88pe6neps07s55&iid=LC81651972016035LGN01&did=417302493&ver=production\n",
      "Extracting to /data/sat_images/landsat8/2016/197/165/LC81651972016035LGN01\n",
      "Removing LC81651972016035LGN01.tar.gz\n",
      "2016-02-04 00:00:00\n",
      "Downloading: LC81651982016035LGN01 from https://dds.cr.usgs.gov/ltaauth/hsm/lsat1/collection01/oli_tirs/T2/2016/165/198/LC08_L1GT_165198_20160204_20170330_01_T2.tar.gz?id=7b85goftg73u7q3jhmku1fr1r4&iid=LC81651982016035LGN01&did=417302816&ver=production\n",
      "Extracting to /data/sat_images/landsat8/2016/198/165/LC81651982016035LGN01\n",
      "Removing LC81651982016035LGN01.tar.gz\n",
      "2016-01-26 00:00:00\n",
      "Downloading: LC81661972016026LGN01 from https://dds.cr.usgs.gov/ltaauth/hsm/lsat1/collection01/oli_tirs/T2/2016/166/197/LC08_L1GT_166197_20160126_20170330_01_T2.tar.gz?id=j5mu5nk2p7et0u76n37bcku5g0&iid=LC81661972016026LGN01&did=417303223&ver=production\n",
      "Extracting to /data/sat_images/landsat8/2016/197/166/LC81661972016026LGN01\n",
      "Removing LC81661972016026LGN01.tar.gz\n",
      "2016-01-19 00:00:00\n",
      "Downloading: LC81651972016019LGN02 from https://dds.cr.usgs.gov/ltaauth/hsm/lsat1/collection01/oli_tirs/T2/2016/165/197/LC08_L1GT_165197_20160119_20170405_01_T2.tar.gz?id=gavmq0sigdjck56gvge7of3he7&iid=LC81651972016019LGN02&did=417303483&ver=production\n"
     ]
    },
    {
     "name": "stdout",
     "output_type": "stream",
     "text": [
      "Extracting to /data/sat_images/landsat8/2016/197/165/LC81651972016019LGN02\n",
      "Removing LC81651972016019LGN02.tar.gz\n",
      "2016-01-19 00:00:00\n",
      "Downloading: LC81651982016019LGN02 from https://dds.cr.usgs.gov/ltaauth/hsm/lsat1/collection01/oli_tirs/T2/2016/165/198/LC08_L1GT_165198_20160119_20170405_01_T2.tar.gz?id=p83nf6ep1sr8rqce8fcidom0k0&iid=LC81651982016019LGN02&did=417303777&ver=production\n",
      "Extracting to /data/sat_images/landsat8/2016/198/165/LC81651982016019LGN02\n",
      "Removing LC81651982016019LGN02.tar.gz\n",
      "2016-01-10 00:00:00\n",
      "Downloading: LC81661972016010LGN02 from https://dds.cr.usgs.gov/ltaauth/hsm/lsat1/collection01/oli_tirs/T2/2016/166/197/LC08_L1GT_166197_20160110_20170405_01_T2.tar.gz?id=1rvhq1mf976luvqg2c48igg0h5&iid=LC81661972016010LGN02&did=417304070&ver=production\n",
      "Extracting to /data/sat_images/landsat8/2016/197/166/LC81661972016010LGN02\n",
      "Removing LC81661972016010LGN02.tar.gz\n",
      "2016-01-03 00:00:00\n",
      "Downloading: LC81651972016003LGN02 from https://dds.cr.usgs.gov/ltaauth/hsm/lsat1/collection01/oli_tirs/T2/2016/165/197/LC08_L1GT_165197_20160103_20170404_01_T2.tar.gz?id=8abhmgbd442hgntjs708fvet64&iid=LC81651972016003LGN02&did=417304314&ver=production\n",
      "Extracting to /data/sat_images/landsat8/2016/197/165/LC81651972016003LGN02\n",
      "Removing LC81651972016003LGN02.tar.gz\n",
      "2016-01-03 00:00:00\n",
      "Downloading: LC81651982016003LGN02 from https://dds.cr.usgs.gov/ltaauth/hsm/lsat1/collection01/oli_tirs/T2/2016/165/198/LC08_L1GT_165198_20160103_20170404_01_T2.tar.gz?id=iu7scqp0vjdddiv78u4v4fpak2&iid=LC81651982016003LGN02&did=417304684&ver=production\n",
      "Extracting to /data/sat_images/landsat8/2016/198/165/LC81651982016003LGN02\n",
      "Removing LC81651982016003LGN02.tar.gz\n",
      "done\n"
     ]
    }
   ],
   "source": [
    "import re\n",
    "import os\n",
    "\n",
    "def get_path(response, root, dataset):\n",
    "    if isinstance(response, dict):\n",
    "        response = [response]\n",
    "    \n",
    "    try:\n",
    "        for data in response:\n",
    "            scene_id = data['entityId']\n",
    "            s = data['summary']\n",
    "            date = datetime.strptime(data['acquisitionDate'], '%Y-%m-%d')\n",
    "            pathstr, rowstr = re.findall(r'Path: \\b\\d+\\b|Row: \\b\\d+\\b', s)\n",
    "            path = pathstr.split(' ')[1]\n",
    "            row = rowstr.split(' ')[1]\n",
    "            return os.path.join(root, dataset, str(date.year), row, path, scene_id)\n",
    "        \n",
    "    except Exception as e:\n",
    "        print('Failed to process request: {}'.format(e))\n",
    "        \n",
    "\n",
    "def bulk_download(response, root, dataset):\n",
    "    results = response['data']['results']\n",
    "    \n",
    "    for scene in results:\n",
    "        scene_id = scene['entityId']\n",
    "        temp_file = '{}.tar.gz'.format(scene_id)\n",
    "        \n",
    "        path = get_path(scene, root, dataset)\n",
    "        if os.path.exists(path):\n",
    "            print('{} already in cache, skipping'.format(path))\n",
    "            continue\n",
    "        \n",
    "        download_info = api.download('LANDSAT_8_C1', 'EE', scene_id)\n",
    "        download_url = download_info['data'][0]\n",
    "        \n",
    "        print('Downloading: {} from {}'.format(scene_id, download_url))\n",
    "        wget.download(download_url, temp_file)\n",
    "\n",
    "        print('Extracting to {}'.format(path))\n",
    "        tar = tarfile.open(temp_file) \n",
    "        tar.extractall(path=path)\n",
    "        tar.close()\n",
    "        print('Removing {}'.format(temp_file))\n",
    "        os.remove(temp_file)\n",
    "    \n",
    "    print('done')\n",
    "              \n",
    "bulk_download(all_roi_images, '/data/sat_images', 'landsat8')"
   ]
  },
  {
   "cell_type": "code",
   "execution_count": 5,
   "metadata": {},
   "outputs": [],
   "source": [
    "response = api.metadata('LANDSAT_8_C1', 'EE', 'LC81651982016307LGN01')"
   ]
  },
  {
   "cell_type": "code",
   "execution_count": 23,
   "metadata": {},
   "outputs": [],
   "source": [
    "import re "
   ]
  },
  {
   "cell_type": "code",
   "execution_count": 12,
   "metadata": {},
   "outputs": [
    {
     "data": {
      "text/plain": [
       "'https://earthexplorer.usgs.gov/order/process?dataset_name=LANDSAT_8_C1&ordered=LC81651982016307LGN01&node=INVSVC'"
      ]
     },
     "execution_count": 12,
     "metadata": {},
     "output_type": "execute_result"
    }
   ],
   "source": [
    "response['data'][0]['orderUrl']"
   ]
  },
  {
   "cell_type": "code",
   "execution_count": 22,
   "metadata": {},
   "outputs": [
    {
     "data": {
      "text/plain": [
       "{'acquisitionDate': '2016-11-02',\n",
       " 'startTime': '2016-11-02',\n",
       " 'endTime': '2016-11-02',\n",
       " 'lowerLeftCoordinate': {'latitude': 21.27999, 'longitude': -154.09952},\n",
       " 'upperLeftCoordinate': {'latitude': 19.54772, 'longitude': -153.70743},\n",
       " 'upperRightCoordinate': {'latitude': 19.17931, 'longitude': -155.4765},\n",
       " 'lowerRightCoordinate': {'latitude': 20.91325, 'longitude': -155.88928},\n",
       " 'spatialFootprint': None,\n",
       " 'sceneBounds': '-155.88928,19.17931,-153.70743,21.27999',\n",
       " 'browseUrl': 'https://earthexplorer.usgs.gov/browse/landsat_8/2016/165/198/LC08_L1GT_165198_20161102_20170318_01_T2.jpg',\n",
       " 'dataAccessUrl': 'https://earthexplorer.usgs.gov/order/process?dataset_name=LANDSAT_8_C1&ordered=LC81651982016307LGN01&node=INVSVC',\n",
       " 'downloadUrl': 'https://earthexplorer.usgs.gov/download/external/options/LANDSAT_8_C1/LC81651982016307LGN01/INVSVC/',\n",
       " 'entityId': 'LC81651982016307LGN01',\n",
       " 'displayId': 'LC08_L1GT_165198_20161102_20170318_01_T2',\n",
       " 'metadataUrl': 'https://earthexplorer.usgs.gov/metadata/xml/12864/LC81651982016307LGN01/',\n",
       " 'fgdcMetadataUrl': 'https://earthexplorer.usgs.gov/fgdc/12864/LC81651982016307LGN01/save_xml',\n",
       " 'modifiedDate': '2017-03-19',\n",
       " 'orderUrl': 'https://earthexplorer.usgs.gov/order/process?dataset_name=LANDSAT_8_C1&ordered=LC81651982016307LGN01&node=INVSVC',\n",
       " 'bulkOrdered': False,\n",
       " 'ordered': False,\n",
       " 'summary': 'Entity ID: LC08_L1GT_165198_20161102_20170318_01_T2, Acquisition Date: 02-NOV-16, Path: 165, Row: 198'}"
      ]
     },
     "execution_count": 22,
     "metadata": {},
     "output_type": "execute_result"
    }
   ],
   "source": [
    "response['data'][0]"
   ]
  },
  {
   "cell_type": "code",
   "execution_count": null,
   "metadata": {},
   "outputs": [],
   "source": []
  }
 ],
 "metadata": {
  "kernelspec": {
   "display_name": "Python 3",
   "language": "python",
   "name": "python3"
  },
  "language_info": {
   "codemirror_mode": {
    "name": "ipython",
    "version": 3
   },
   "file_extension": ".py",
   "mimetype": "text/x-python",
   "name": "python",
   "nbconvert_exporter": "python",
   "pygments_lexer": "ipython3",
   "version": "3.6.5"
  }
 },
 "nbformat": 4,
 "nbformat_minor": 2
}
