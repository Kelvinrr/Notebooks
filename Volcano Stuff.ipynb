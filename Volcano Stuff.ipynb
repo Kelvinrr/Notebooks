{
 "cells": [
  {
   "cell_type": "code",
   "execution_count": 465,
   "metadata": {
    "scrolled": true
   },
   "outputs": [
    {
     "data": {
      "text/plain": [
       "{'divide': 'warn', 'over': 'warn', 'under': 'ignore', 'invalid': 'warn'}"
      ]
     },
     "execution_count": 465,
     "metadata": {},
     "output_type": "execute_result"
    }
   ],
   "source": [
    "import plio\n",
    "from plio.io.io_gdal import GeoDataset\n",
    "import matplotlib.pyplot as plt\n",
    "from pylab import rcParams\n",
    "import numpy as np\n",
    "import gdal \n",
    "from os import path\n",
    "import osr \n",
    "\n",
    "rcParams['figure.figsize'] = 15,10\n",
    "\n",
    "# nans everywhere\n",
    "np.seterr(divide='ignore', invalid='ignore')\n"
   ]
  },
  {
   "cell_type": "code",
   "execution_count": 497,
   "metadata": {},
   "outputs": [],
   "source": [
    "# data = '/work/users/gvaughan/Data/Hawaii/Kilauea_MaunaLoa/Landsat_8_C1/2013/2013-11-10-n_165198/SensorRad_C1/'\n",
    "data = '/data/landsat8/SensorRad_C1/'\n",
    "def modvolc(mir, tir, thresh=-.8):\n",
    "    \"\"\"\n",
    "    \"\"\"\n",
    "    nti = (mir - tir)/(mir + tir)\n",
    "    \n",
    "    anomolies = np.empty(nti.shape)\n",
    "    anomolies[:] = False\n",
    "    anomolies[np.isnan(nti)] = np.nan\n",
    "    anomolies[nti >= thresh] = True\n",
    "    return anomolies, nti\n",
    "\n",
    "\n",
    "def hash_dataset(dataset):\n",
    "    if isinstance(dataset, str):\n",
    "        dataset = GeoDataset(dataset)\n",
    "    \n",
    "    string = \"\"\n",
    "    string += str(b7.geotransform)\n",
    "    string += str(b7.spatial_reference)\n",
    "    string += str(b7.xy_corners)\n",
    "    string += str(b7.latlon_extent)\n",
    "    for band in range(1,dataset.nbands+1):\n",
    "        arr = dataset.read_array(band)\n",
    "        string += \"Band {}\\n\".format(band)\n",
    "        string += str(round(np.min(arr), 3))\n",
    "        string += str(round(np.max(arr), 3))\n",
    "        string += str(round(np.sum(arr), 3))\n",
    "    \n",
    "    del dataset \n",
    "    sha1 = hashlib.sha1(string.replace(' ', '').replace('\\n','').encode()).hexdigest()\n",
    "    return sha1\n",
    "\n",
    "\n",
    "\n",
    "def crop(cropfile, extents, use_latlon=True):\n",
    "    \"\"\"\n",
    "    Uses the virtual file system: http://www.gdal.org/gdal_virtual_file_systems.html\n",
    "    \"\"\"\n",
    "    # hash the image info to get the filename\n",
    "    filename = hash_dataset(cropfile)\n",
    "    \n",
    "    if use_latlon:\n",
    "        ul = np.asarray(cropfile.latlon_to_pixel(extents[0], extents[1]))\n",
    "        lr = np.asarray(cropfile.latlon_to_pixel(extents[2], extents[3]))\n",
    "        window_size = np.abs(ul-lr)\n",
    "        extents = [ul[0], ul[1], window_size[0], window_size[1]]\n",
    "    \n",
    "    clip = gdal.Translate(path.join('/vsimem', filename), cropfile.file_name, srcWin=extents)\n",
    "    return GeoDataset(clip.GetDescription())\n",
    "\n",
    "\n",
    "def pixels_to_latlon(geodataset, locs):\n",
    "    coords = []\n",
    "    for loc in locs:\n",
    "        coords.append(geodataset.pixel_to_latlon(loc[1], loc[0]))\n",
    "    return coords\n",
    "\n",
    "\n",
    "def to_geodataset(dataset):\n",
    "    if not isinstance(dataset, GeoDataset):\n",
    "        return GeoDataset(path.abspath(dataset.GetDescription()))\n",
    "    return dataset\n",
    "    \n",
    "\n",
    "def info(file, **kwargs):\n",
    "    file = to_geodataset(file)\n",
    "    \n",
    "    showFileList = kwargs.pop('showFileList', False)\n",
    "    \n",
    "    string = \"{}\\n\".format(gdal.Info(file.file_name, showFileList=False, showColorTable=False, showMetadata=False, **kwargs))\n",
    "    return string\n",
    "\n",
    "\n",
    "def array2raster(rasterfn,array,newRasterfn=None):\n",
    "    raster = gdal.Open(rasterfn)\n",
    "    geotransform = raster.GetGeoTransform()\n",
    "    originX = geotransform[0]\n",
    "    originY = geotransform[3]\n",
    "    pixelWidth = geotransform[1]\n",
    "    pixelHeight = geotransform[5]\n",
    "    cols = raster.RasterXSize\n",
    "    rows = raster.RasterYSize\n",
    "\n",
    "    driver = gdal.GetDriverByName('GTiff')\n",
    "    outRaster = driver.Create(newRasterfn, cols, rows, 1, gdal.GDT_Float32)\n",
    "    outRaster.SetGeoTransform((originX, pixelWidth, 0, originY, 0, pixelHeight))\n",
    "    outband = outRaster.GetRasterBand(1)\n",
    "    outband.WriteArray(array)\n",
    "    outRasterSRS = osr.SpatialReference()\n",
    "    outRasterSRS.ImportFromWkt(raster.GetProjectionRef())\n",
    "    outRaster.SetProjection(outRasterSRS.ExportToWkt())\n",
    "    outband.FlushCache()\n",
    "\n",
    "def write_array(dataset, array, out=None):\n",
    "    naxis = len(array.shape)\n",
    "    assert naxis == 2 or naxis == 3      \n",
    "    \n",
    "    if naxis == 2:\n",
    "        # exapnd the third dimension\n",
    "        array = array[:,:,None]\n",
    "    \n",
    "    nbands = array.shape[2]\n",
    "    \n",
    "    if nbands > dataset.nbands:\n",
    "        for i in range(nbands-dataset.nbands):\n",
    "            dataset.dataset.AddBand()\n",
    "    \n",
    "    if out:\n",
    "        # copy the file \n",
    "        new_dataset = gdal.Translate(out, dataset.file_name)\n",
    "        for band in range(nbands):\n",
    "            outBand = new_dataset.GetRasterBand(band+1)\n",
    "            outBand.WriteArray(array[:,:,band])\n",
    "        del new_dataset\n",
    "        return GeoDataset(out)\n",
    "    \n",
    "    # Else use virtual filesystem\n",
    "    temp = gdal.Translate('/vsimem/temp', dataset.file_name)\n",
    "    for band in range(nbands):\n",
    "        outBand = temp.GetRasterBand(band+1)\n",
    "        outBand.WriteArray(array[:,:,band])\n",
    "\n",
    "    # copy file into proper name and delete temp\n",
    "    del temp\n",
    "    return to_geodataset(gdal.Translate(path.join('/vsimem/', hash_dataset('/vsimem/temp')), '/vsimem/temp'))\n",
    "        "
   ]
  },
  {
   "cell_type": "code",
   "execution_count": 444,
   "metadata": {},
   "outputs": [],
   "source": [
    "b7 = crop(GeoDataset(data+'LC08_L1GT_166197_20131117_20170428_01_T2_B7_SensorRad.TIF'), [19.445, -155.321, 19.343,-155.164])\n",
    "b11 = crop(GeoDataset(data+'LC08_L1GT_166197_20131117_20170428_01_T2_B11_SensorRad.TIF'), [19.445, -155.321, 19.343,-155.164])\n",
    "b10 = crop(GeoDataset(data+'LC08_L1GT_166197_20131117_20170428_01_T2_B10_SensorRad.TIF'), [19.445, -155.321, 19.343,-155.164])\n",
    "\n",
    "b11arr = b11.read_array()\n",
    "b11arr[b11arr == 0] = np.nan\n",
    "\n",
    "b10arr = b10.read_array()\n",
    "b10arr[b10arr == 0] = np.nan\n",
    "\n",
    "b7arr = b7.read_array()\n",
    "b7arr[b10arr == 0] = np.nan\n"
   ]
  },
  {
   "cell_type": "code",
   "execution_count": 490,
   "metadata": {
    "scrolled": false
   },
   "outputs": [
    {
     "data": {
      "text/plain": [
       "<matplotlib.colorbar.Colorbar at 0x132fa1a90>"
      ]
     },
     "execution_count": 490,
     "metadata": {},
     "output_type": "execute_result"
    },
    {
     "data": {
      "image/png": "[encoded data removed]",
      "text/plain": [
       "<Figure size 1080x720 with 2 Axes>"
      ]
     },
     "metadata": {},
     "output_type": "display_data"
    }
   ],
   "source": [
    "anomolies, nti = modvolc(b7arr, b10arr, thresh=-.8)\n",
    "plt.imshow(anomolies)\n",
    "plt.colorbar()"
   ]
  },
  {
   "cell_type": "code",
   "execution_count": 467,
   "metadata": {
    "scrolled": false
   },
   "outputs": [
    {
     "data": {
      "text/plain": [
       "[(19.409139570755084, -155.2817920551586),\n",
       " (19.40886508109506, -155.28207378786738),\n",
       " (19.40886866837841, -155.2817882746023),\n",
       " (19.408872255213794, -155.2815027612739),\n",
       " (19.4088758416012, -155.2812172478823),\n",
       " (19.408879427540644, -155.28093173442744),\n",
       " (19.40859059108625, -155.2823555196321),\n",
       " (19.40859417876359, -155.28207000690227),\n",
       " (19.40859776599296, -155.2817844941092),\n",
       " (19.408601352774376, -155.28149898125287)]"
      ]
     },
     "execution_count": 467,
     "metadata": {},
     "output_type": "execute_result"
    }
   ],
   "source": [
    "latlons = pixels_to_latlon(b7, np.argwhere(anomolies==True))\n",
    "latlons[:10]"
   ]
  },
  {
   "cell_type": "code",
   "execution_count": 509,
   "metadata": {},
   "outputs": [],
   "source": [
    "b7.dataset.AddBand?\n",
    "anom_dataset = write_array(b7, anomolies, out='anomolies.tif')\n"
   ]
  },
  {
   "cell_type": "code",
   "execution_count": 510,
   "metadata": {},
   "outputs": [
    {
     "data": {
      "text/plain": [
       "<matplotlib.image.AxesImage at 0x1335168d0>"
      ]
     },
     "execution_count": 510,
     "metadata": {},
     "output_type": "execute_result"
    },
    {
     "data": {
      "image/png": "[encoded data removed]",
      "text/plain": [
       "<Figure size 1080x720 with 1 Axes>"
      ]
     },
     "metadata": {},
     "output_type": "display_data"
    }
   ],
   "source": [
    "test = GeoDataset('anomolies.tif')\n",
    "plt.imshow(anom_dataset.read_array(1))"
   ]
  },
  {
   "cell_type": "code",
   "execution_count": 515,
   "metadata": {},
   "outputs": [
    {
     "ename": "RuntimeError",
     "evalue": "/vsimem/acd9463d46072f57575ae1fd2b4add271098af57: Dataset does not support the AddBand() method.",
     "output_type": "error",
     "traceback": [
      "\u001b[0;31m---------------------------------------------------------------------------\u001b[0m",
      "\u001b[0;31mRuntimeError\u001b[0m                              Traceback (most recent call last)",
      "\u001b[0;32m<ipython-input-515-3f7786aa8e3f>\u001b[0m in \u001b[0;36m<module>\u001b[0;34m()\u001b[0m\n\u001b[0;32m----> 1\u001b[0;31m \u001b[0mb7\u001b[0m\u001b[0;34m.\u001b[0m\u001b[0mdataset\u001b[0m\u001b[0;34m.\u001b[0m\u001b[0mAddBand\u001b[0m\u001b[0;34m(\u001b[0m\u001b[0;34m)\u001b[0m\u001b[0;34m\u001b[0m\u001b[0m\n\u001b[0m",
      "\u001b[0;32m~/anaconda3/envs/numel/lib/python3.6/site-packages/osgeo/gdal.py\u001b[0m in \u001b[0;36mAddBand\u001b[0;34m(self, *args, **kwargs)\u001b[0m\n\u001b[1;32m   1894\u001b[0m     \u001b[0;32mdef\u001b[0m \u001b[0mAddBand\u001b[0m\u001b[0;34m(\u001b[0m\u001b[0mself\u001b[0m\u001b[0;34m,\u001b[0m \u001b[0;34m*\u001b[0m\u001b[0margs\u001b[0m\u001b[0;34m,\u001b[0m \u001b[0;34m**\u001b[0m\u001b[0mkwargs\u001b[0m\u001b[0;34m)\u001b[0m\u001b[0;34m:\u001b[0m\u001b[0;34m\u001b[0m\u001b[0m\n\u001b[1;32m   1895\u001b[0m         \u001b[0;34m\"\"\"AddBand(Dataset self, GDALDataType datatype, char ** options=None) -> CPLErr\"\"\"\u001b[0m\u001b[0;34m\u001b[0m\u001b[0m\n\u001b[0;32m-> 1896\u001b[0;31m         \u001b[0;32mreturn\u001b[0m \u001b[0m_gdal\u001b[0m\u001b[0;34m.\u001b[0m\u001b[0mDataset_AddBand\u001b[0m\u001b[0;34m(\u001b[0m\u001b[0mself\u001b[0m\u001b[0;34m,\u001b[0m \u001b[0;34m*\u001b[0m\u001b[0margs\u001b[0m\u001b[0;34m,\u001b[0m \u001b[0;34m**\u001b[0m\u001b[0mkwargs\u001b[0m\u001b[0;34m)\u001b[0m\u001b[0;34m\u001b[0m\u001b[0m\n\u001b[0m\u001b[1;32m   1897\u001b[0m \u001b[0;34m\u001b[0m\u001b[0m\n\u001b[1;32m   1898\u001b[0m \u001b[0;34m\u001b[0m\u001b[0m\n",
      "\u001b[0;31mRuntimeError\u001b[0m: /vsimem/acd9463d46072f57575ae1fd2b4add271098af57: Dataset does not support the AddBand() method."
     ]
    }
   ],
   "source": [
    "b7.dataset.AddBand()"
   ]
  },
  {
   "cell_type": "code",
   "execution_count": null,
   "metadata": {},
   "outputs": [],
   "source": []
  }
 ],
 "metadata": {
  "kernelspec": {
   "display_name": "Python 3",
   "language": "python",
   "name": "python3"
  },
  "language_info": {
   "codemirror_mode": {
    "name": "ipython",
    "version": 3
   },
   "file_extension": ".py",
   "mimetype": "text/x-python",
   "name": "python",
   "nbconvert_exporter": "python",
   "pygments_lexer": "ipython3",
   "version": "3.6.5"
  }
 },
 "nbformat": 4,
 "nbformat_minor": 2
}
